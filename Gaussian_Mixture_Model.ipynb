{
 "cells": [
  {
   "cell_type": "markdown",
   "metadata": {
    "id": "uRp0pooiYfXf"
   },
   "source": [
    "## Gaussian Mixture Model (GMM)"
   ]
  },
  {
   "cell_type": "markdown",
   "metadata": {
    "id": "WhZGIy3BXRfC"
   },
   "source": [
    "## True Data Generation\n",
    "\n",
    "Select a Gaussian Mixture Model as the true probability density function for 2-dimensional real-valued data synthesis. This GMM will have 4 components with different mean vectors, different covariance matrices, and different probability for each Gaussian to be selected as the generator for each sample.\n",
    "\n",
    "Generate two data sets with independent identically distributed samples using this true GMM; these datasets will have 100 and 10000 samples respectively."
   ]
  },
  {
   "cell_type": "code",
   "execution_count": 18,
   "metadata": {
    "executionInfo": {
     "elapsed": 187,
     "status": "ok",
     "timestamp": 1670207780525,
     "user": {
      "displayName": "Parth Shah",
      "userId": "06642947480254355812"
     },
     "user_tz": 300
    },
    "id": "g576FnsRXKDj"
   },
   "outputs": [],
   "source": [
    "#Import Libraries\n",
    "\n",
    "import numpy as np\n",
    "from sklearn.mixture import GaussianMixture\n",
    "from sklearn.model_selection import KFold\n",
    "import matplotlib.pyplot as plt "
   ]
  },
  {
   "cell_type": "code",
   "execution_count": 19,
   "metadata": {
    "executionInfo": {
     "elapsed": 4,
     "status": "ok",
     "timestamp": 1670207780686,
     "user": {
      "displayName": "Parth Shah",
      "userId": "06642947480254355812"
     },
     "user_tz": 300
    },
    "id": "M_cd_PA9FWHq"
   },
   "outputs": [],
   "source": [
    "# Initialize model parameters\n",
    "\n",
    "mean_array = np.array([[3, 0], [0, 3], [-1, -2], [1, 7]])\n",
    "covariance_array = np.array([[[1, 0], [0, 1]],  [[1, 0], [0, 1.5]],  [[1, 0], [0, 0.5]],[[0.5, 0], [0, 1]]])\n",
    "weights_array = np.array([0.25, 0.2, 0.32, 0.23])"
   ]
  },
  {
   "cell_type": "code",
   "execution_count": 20,
   "metadata": {
    "executionInfo": {
     "elapsed": 3,
     "status": "ok",
     "timestamp": 1670207780686,
     "user": {
      "displayName": "Parth Shah",
      "userId": "06642947480254355812"
     },
     "user_tz": 300
    },
    "id": "0iMJHCpPFYle"
   },
   "outputs": [],
   "source": [
    "# Data generation\n",
    "\n",
    "def generating_data_from_mean_covariance_weights(number_data_pts, mean_arr, covariance_arr, weights_arr):\n",
    "    data = []\n",
    "    for i in range(number_data_pts):\n",
    "        k = np.random.choice(len(weights_arr), 1, p=weights_arr)[0]\n",
    "        x = np.random.multivariate_normal(mean_arr[k], covariance_arr[k])\n",
    "        data.append(x)\n",
    "    return data"
   ]
  },
  {
   "cell_type": "code",
   "execution_count": 21,
   "metadata": {
    "executionInfo": {
     "elapsed": 1300,
     "status": "ok",
     "timestamp": 1670207781983,
     "user": {
      "displayName": "Parth Shah",
      "userId": "06642947480254355812"
     },
     "user_tz": 300
    },
    "id": "gzRBXP5SFb16"
   },
   "outputs": [],
   "source": [
    "# Generate data for 100 samples & 10000 samples\n",
    "\n",
    "data_100_init = generating_data_from_mean_covariance_weights(100, mean_array, covariance_array, weights_array)\n",
    "data_10000_init = generating_data_from_mean_covariance_weights(10000, mean_array, covariance_array, weights_array)"
   ]
  },
  {
   "cell_type": "code",
   "execution_count": 22,
   "metadata": {
    "executionInfo": {
     "elapsed": 3,
     "status": "ok",
     "timestamp": 1670207781983,
     "user": {
      "displayName": "Parth Shah",
      "userId": "06642947480254355812"
     },
     "user_tz": 300
    },
    "id": "gkANcU-OFewK"
   },
   "outputs": [],
   "source": [
    "# Reshape data for visualization\n",
    "\n",
    "array_data_100_init = np.array(data_100_init)\n",
    "reshaped_data_100_init=np.reshape(array_data_100_init,(100,2))\n",
    "\n",
    "array_data_10000_init = np.array(data_10000_init)\n",
    "reshaped_data_10000_init=np.reshape(array_data_10000_init,(10000,2))"
   ]
  },
  {
   "cell_type": "code",
   "execution_count": 23,
   "metadata": {
    "colab": {
     "base_uri": "https://localhost:8080/",
     "height": 265
    },
    "executionInfo": {
     "elapsed": 183,
     "status": "ok",
     "timestamp": 1670207782164,
     "user": {
      "displayName": "Parth Shah",
      "userId": "06642947480254355812"
     },
     "user_tz": 300
    },
    "id": "aZYxhKPPFg0F",
    "outputId": "a67b338d-7a0f-40aa-de24-af0d5c26c1b3"
   },
   "outputs": [
    {
     "data": {
      "image/png": "[encoded data removed]",
      "text/plain": [
       "<Figure size 432x288 with 1 Axes>"
      ]
     },
     "metadata": {
      "needs_background": "light"
     },
     "output_type": "display_data"
    }
   ],
   "source": [
    "# 100 Data points\n",
    "\n",
    "plt.scatter(reshaped_data_100_init[:, 0], reshaped_data_100_init[:,1], cmap='hot')\n",
    "plt.show()"
   ]
  },
  {
   "cell_type": "code",
   "execution_count": 24,
   "metadata": {
    "colab": {
     "base_uri": "https://localhost:8080/",
     "height": 265
    },
    "executionInfo": {
     "elapsed": 193,
     "status": "ok",
     "timestamp": 1670207782353,
     "user": {
      "displayName": "Parth Shah",
      "userId": "06642947480254355812"
     },
     "user_tz": 300
    },
    "id": "g5iJ1B0GFnlR",
    "outputId": "d5329986-7f16-40cc-a1e4-45389505f151"
   },
   "outputs": [
    {
     "data": {
      "image/png": "[encoded data removed]",
      "text/plain": [
       "<Figure size 432x288 with 1 Axes>"
      ]
     },
     "metadata": {
      "needs_background": "light"
     },
     "output_type": "display_data"
    }
   ],
   "source": [
    "#10000 Data points\n",
    "\n",
    "plt.scatter(reshaped_data_10000_init[:, 0], reshaped_data_10000_init[:,1], cmap='hot')\n",
    "plt.show()"
   ]
  },
  {
   "cell_type": "markdown",
   "metadata": {
    "id": "XnxJMAoPXrU8"
   },
   "source": [
    "# Model Order Selection Using Cross-Validation\n",
    "For each data set, using maximum likelihood parameter estimation principle (e.g. with the EM algorithm), within the framework of K-fold (e.g., 10-fold) cross-validation, evaluate GMMs with different model orders; specifically evaluate candidate GMMs with 1, 2, 3, 4, 5, 6, 7 Gaussian components. Note that both model parameter estimation and validation performance measures to be used is log-likelihood of data.\n",
    "\n",
    "Repeat the experiment multiple times (e.g., at least 30 times) and report the results (tables/figures), indicating the rate at which each of the the seven GMM orders get selected for each of the datasets produced."
   ]
  },
  {
   "cell_type": "code",
   "execution_count": 25,
   "metadata": {
    "executionInfo": {
     "elapsed": 3,
     "status": "ok",
     "timestamp": 1670207782353,
     "user": {
      "displayName": "Parth Shah",
      "userId": "06642947480254355812"
     },
     "user_tz": 300
    },
    "id": "HnEYb4AGXpm_"
   },
   "outputs": [],
   "source": [
    "def log_sum_exp(Z):\n",
    "    \"\"\" Compute log(\\sum_i exp(Z_i)) for some array Z.\"\"\"\n",
    "    return np.max(Z) + np.log(np.sum(np.exp(Z - np.max(Z))))"
   ]
  },
  {
   "cell_type": "code",
   "execution_count": 26,
   "metadata": {
    "executionInfo": {
     "elapsed": 2,
     "status": "ok",
     "timestamp": 1670207782353,
     "user": {
      "displayName": "Parth Shah",
      "userId": "06642947480254355812"
     },
     "user_tz": 300
    },
    "id": "sL2F_UF_afyl"
   },
   "outputs": [],
   "source": [
    "# Calculate loglikehood\n",
    "\n",
    "def loglikelihood(data, weights, means, covs):\n",
    "    num_clusters = len(means)\n",
    "    num_dim = len(data[0])\n",
    "    ll = 0\n",
    "    for d in data:\n",
    "        Z = np.zeros(num_clusters)\n",
    "        for k in range(num_clusters):\n",
    "            delta = np.array(d) - means[k]\n",
    "            exponent_term = np.dot(delta.T, np.dot(np.linalg.inv(covs[k]), delta))\n",
    "            Z[k] += np.log(weights[k])\n",
    "            Z[k] -= 1/2. * (num_dim * np.log(2*np.pi) + np.log(np.linalg.det(covs[k])) + exponent_term)\n",
    "        ll += log_sum_exp(Z)\n",
    "    return ll"
   ]
  },
  {
   "cell_type": "code",
   "execution_count": 27,
   "metadata": {
    "colab": {
     "base_uri": "https://localhost:8080/"
    },
    "executionInfo": {
     "elapsed": 57947,
     "status": "ok",
     "timestamp": 1670207840298,
     "user": {
      "displayName": "Parth Shah",
      "userId": "06642947480254355812"
     },
     "user_tz": 300
    },
    "id": "Jg_ijsNcGd9N",
    "outputId": "5a414275-b3b3-4dd8-85cc-1a95f03c19e2"
   },
   "outputs": [
    {
     "data": {
      "text/plain": [
       "[4,\n",
       " 4,\n",
       " 4,\n",
       " 4,\n",
       " 4,\n",
       " 4,\n",
       " 4,\n",
       " 4,\n",
       " 4,\n",
       " 4,\n",
       " 4,\n",
       " 6,\n",
       " 4,\n",
       " 4,\n",
       " 4,\n",
       " 4,\n",
       " 4,\n",
       " 4,\n",
       " 4,\n",
       " 4,\n",
       " 4,\n",
       " 5,\n",
       " 4,\n",
       " 4,\n",
       " 4,\n",
       " 4,\n",
       " 4,\n",
       " 4,\n",
       " 4,\n",
       " 4]"
      ]
     },
     "execution_count": 27,
     "metadata": {},
     "output_type": "execute_result"
    }
   ],
   "source": [
    "# Calculate Average LogLikelihood for 100 data points\n",
    "\n",
    "max_cluster_log_likelihood_100 =[]\n",
    "for i in range(30):\n",
    "    k = 10\n",
    "    kf = KFold(n_splits=k, random_state=None)\n",
    "    avg_log_likelihood =[]\n",
    "    log_likelihood_array_1 = []\n",
    "    log_likelihood_array_2 = []\n",
    "    log_likelihood_array_3 = []\n",
    "    log_likelihood_array_4 = []\n",
    "    log_likelihood_array_5 = []\n",
    "    log_likelihood_array_6 = []\n",
    "    log_likelihood_array_7 = []\n",
    "    for train_index_array,test_index_array in kf.split(array_data_100_init):\n",
    "        train_data = []\n",
    "        for train_index in train_index_array:\n",
    "            train_data.append(array_data_100_init[train_index])\n",
    "        test_data = []\n",
    "        for test_index in test_index_array:\n",
    "            test_data.append(array_data_100_init[test_index])\n",
    "        gm_1 = GaussianMixture(n_components=1, random_state=None).fit(train_data)\n",
    "        curr_log_likelihood = gm_1.score(test_data)\n",
    "        log_likelihood_array_1.append(curr_log_likelihood)\n",
    "        gm_2 = GaussianMixture(n_components=2, random_state=None).fit(train_data)\n",
    "        curr_log_likelihood = gm_2.score(test_data)\n",
    "        log_likelihood_array_2.append(curr_log_likelihood)\n",
    "        gm_3 = GaussianMixture(n_components=3, random_state=None).fit(train_data)\n",
    "        curr_log_likelihood = gm_3.score(test_data)\n",
    "        log_likelihood_array_3.append(curr_log_likelihood)\n",
    "        gm_4 = GaussianMixture(n_components=4, random_state=None).fit(train_data)\n",
    "        curr_log_likelihood = gm_4.score(test_data)\n",
    "        log_likelihood_array_4.append(curr_log_likelihood)\n",
    "        gm_5 = GaussianMixture(n_components=5, random_state=None).fit(train_data)\n",
    "        curr_log_likelihood = gm_5.score(test_data)\n",
    "        log_likelihood_array_5.append(curr_log_likelihood)\n",
    "        gm_6 = GaussianMixture(n_components=6, random_state=None).fit(train_data)\n",
    "        curr_log_likelihood = gm_6.score(test_data)\n",
    "        log_likelihood_array_6.append(curr_log_likelihood)\n",
    "        gm_7 = GaussianMixture(n_components=7, random_state=None).fit(train_data)\n",
    "        curr_log_likelihood = gm_7.score(test_data)\n",
    "        log_likelihood_array_7.append(curr_log_likelihood)\n",
    "    avg_log_likelihood.append(np.mean(log_likelihood_array_1))\n",
    "    avg_log_likelihood.append(np.mean(log_likelihood_array_2))\n",
    "    avg_log_likelihood.append(np.mean(log_likelihood_array_3))\n",
    "    avg_log_likelihood.append(np.mean(log_likelihood_array_4))\n",
    "    avg_log_likelihood.append(np.mean(log_likelihood_array_5))\n",
    "    avg_log_likelihood.append(np.mean(log_likelihood_array_6))\n",
    "    avg_log_likelihood.append(np.mean(log_likelihood_array_7))\n",
    "    j = avg_log_likelihood.index(max(avg_log_likelihood))\n",
    "    max_cluster_log_likelihood_100.append(j+1)\n",
    "max_cluster_log_likelihood_100"
   ]
  },
  {
   "cell_type": "code",
   "execution_count": 28,
   "metadata": {
    "colab": {
     "base_uri": "https://localhost:8080/",
     "height": 265
    },
    "executionInfo": {
     "elapsed": 235,
     "status": "ok",
     "timestamp": 1670207840529,
     "user": {
      "displayName": "Parth Shah",
      "userId": "06642947480254355812"
     },
     "user_tz": 300
    },
    "id": "UeVr2_W4GuZh",
    "outputId": "dd6368c9-84eb-444f-dde6-4cd2610e6f3c"
   },
   "outputs": [
    {
     "data": {
      "image/png": "[encoded data removed]",
      "text/plain": [
       "<Figure size 432x288 with 1 Axes>"
      ]
     },
     "metadata": {
      "needs_background": "light"
     },
     "output_type": "display_data"
    }
   ],
   "source": [
    "import scipy.stats\n",
    "X = reshaped_data_100_init\n",
    "plt.scatter(X[:,0], X[:, 1], cmap='hot')\n",
    "gmm = GaussianMixture(n_components=4).fit(X)\n",
    "centers = np.empty(shape=(gmm.n_components, X.shape[1]))\n",
    "for i in range(gmm.n_components):\n",
    "    density = scipy.stats.multivariate_normal(cov=gmm.covariances_[i], mean=gmm.means_[i]).logpdf(X)\n",
    "    centers[i, :] = X[np.argmax(density)]\n",
    "plt.scatter(centers[:, 0], centers[:, 1], c = 'red')\n",
    "plt.show()"
   ]
  },
  {
   "cell_type": "code",
   "execution_count": 29,
   "metadata": {
    "colab": {
     "base_uri": "https://localhost:8080/"
    },
    "executionInfo": {
     "elapsed": 258737,
     "status": "ok",
     "timestamp": 1670208099394,
     "user": {
      "displayName": "Parth Shah",
      "userId": "06642947480254355812"
     },
     "user_tz": 300
    },
    "id": "5ZXjvMSAHCRW",
    "outputId": "0207bc08-d83a-4f15-df1b-871a3b328001"
   },
   "outputs": [
    {
     "data": {
      "text/plain": [
       "[5,\n",
       " 4,\n",
       " 4,\n",
       " 4,\n",
       " 4,\n",
       " 4,\n",
       " 4,\n",
       " 4,\n",
       " 4,\n",
       " 4,\n",
       " 4,\n",
       " 4,\n",
       " 4,\n",
       " 4,\n",
       " 4,\n",
       " 5,\n",
       " 4,\n",
       " 4,\n",
       " 4,\n",
       " 4,\n",
       " 4,\n",
       " 4,\n",
       " 4,\n",
       " 4,\n",
       " 4,\n",
       " 4,\n",
       " 4,\n",
       " 4,\n",
       " 4,\n",
       " 4]"
      ]
     },
     "execution_count": 29,
     "metadata": {},
     "output_type": "execute_result"
    }
   ],
   "source": [
    "# Calculate Average LogLikelihood for 10000 data points\n",
    "\n",
    "max_cluster_log_likelihood_10000 =[]\n",
    "for i in range(30):\n",
    "    k = 10\n",
    "    kf = KFold(n_splits=k, random_state=None)\n",
    "    avg_log_likelihood =[]\n",
    "    log_likelihood_array_1 = []\n",
    "    log_likelihood_array_2 = []\n",
    "    log_likelihood_array_3 = []\n",
    "    log_likelihood_array_4 = []\n",
    "    log_likelihood_array_5 = []\n",
    "    log_likelihood_array_6 = []\n",
    "    log_likelihood_array_7 = []\n",
    "    for train_index_array,test_index_array in kf.split(array_data_10000_init):\n",
    "        train_data = []\n",
    "        for train_index in train_index_array:\n",
    "            train_data.append(array_data_10000_init[train_index])\n",
    "        test_data = []\n",
    "        for test_index in test_index_array:\n",
    "            test_data.append(array_data_10000_init[test_index])\n",
    "        gm_1 = GaussianMixture(n_components=1, random_state=None).fit(train_data)\n",
    "        curr_log_likelihood = gm_1.score(test_data)\n",
    "        log_likelihood_array_1.append(curr_log_likelihood)\n",
    "        gm_2 = GaussianMixture(n_components=2, random_state=None).fit(train_data)\n",
    "        curr_log_likelihood = gm_2.score(test_data)\n",
    "        log_likelihood_array_2.append(curr_log_likelihood)\n",
    "        gm_3 = GaussianMixture(n_components=3, random_state=None).fit(train_data)\n",
    "        curr_log_likelihood = gm_3.score(test_data)\n",
    "        log_likelihood_array_3.append(curr_log_likelihood)\n",
    "        gm_4 = GaussianMixture(n_components=4, random_state=None).fit(train_data)\n",
    "        curr_log_likelihood = gm_4.score(test_data)\n",
    "        log_likelihood_array_4.append(curr_log_likelihood)\n",
    "        gm_5 = GaussianMixture(n_components=5, random_state=None).fit(train_data)\n",
    "        curr_log_likelihood = gm_5.score(test_data)\n",
    "        log_likelihood_array_5.append(curr_log_likelihood)\n",
    "        gm_6 = GaussianMixture(n_components=6, random_state=None).fit(train_data)\n",
    "        curr_log_likelihood = gm_6.score(test_data)\n",
    "        log_likelihood_array_6.append(curr_log_likelihood)\n",
    "        gm_7 = GaussianMixture(n_components=7, random_state=None).fit(train_data)\n",
    "        curr_log_likelihood = gm_7.score(test_data)\n",
    "        log_likelihood_array_7.append(curr_log_likelihood)\n",
    "    avg_log_likelihood.append(np.mean(log_likelihood_array_1))\n",
    "    avg_log_likelihood.append(np.mean(log_likelihood_array_2))\n",
    "    avg_log_likelihood.append(np.mean(log_likelihood_array_3))\n",
    "    avg_log_likelihood.append(np.mean(log_likelihood_array_4))\n",
    "    avg_log_likelihood.append(np.mean(log_likelihood_array_5))\n",
    "    avg_log_likelihood.append(np.mean(log_likelihood_array_6))\n",
    "    avg_log_likelihood.append(np.mean(log_likelihood_array_7))\n",
    "    j = avg_log_likelihood.index(max(avg_log_likelihood))\n",
    "    max_cluster_log_likelihood_10000.append(j+1)\n",
    "max_cluster_log_likelihood_10000"
   ]
  },
  {
   "cell_type": "code",
   "execution_count": 30,
   "metadata": {
    "colab": {
     "base_uri": "https://localhost:8080/",
     "height": 265
    },
    "executionInfo": {
     "elapsed": 279,
     "status": "ok",
     "timestamp": 1670208099669,
     "user": {
      "displayName": "Parth Shah",
      "userId": "06642947480254355812"
     },
     "user_tz": 300
    },
    "id": "jZxwxYySHOeY",
    "outputId": "c706fb67-fb53-4e92-d445-6f0e9c9a8c58"
   },
   "outputs": [
    {
     "data": {
      "image/png": "[encoded data removed]",
      "text/plain": [
       "<Figure size 432x288 with 1 Axes>"
      ]
     },
     "metadata": {
      "needs_background": "light"
     },
     "output_type": "display_data"
    }
   ],
   "source": [
    "import scipy.stats\n",
    "X = reshaped_data_10000_init\n",
    "plt.scatter(X[:,0], X[:, 1], cmap = 'hot')\n",
    "gmm = GaussianMixture(n_components=4).fit(X)\n",
    "centers = np.empty(shape=(gmm.n_components, X.shape[1]))\n",
    "for i in range(gmm.n_components):\n",
    "    density = scipy.stats.multivariate_normal(cov=gmm.covariances_[i], mean=gmm.means_[i]).logpdf(X)\n",
    "    centers[i, :] = X[np.argmax(density)]\n",
    "plt.scatter(centers[:, 0], centers[:, 1], c = 'red')\n",
    "plt.show()"
   ]
  },
  {
   "cell_type": "code",
   "execution_count": 31,
   "metadata": {
    "colab": {
     "base_uri": "https://localhost:8080/",
     "height": 295
    },
    "executionInfo": {
     "elapsed": 185,
     "status": "ok",
     "timestamp": 1670208099843,
     "user": {
      "displayName": "Parth Shah",
      "userId": "06642947480254355812"
     },
     "user_tz": 300
    },
    "id": "j6-7vgh-HTTT",
    "outputId": "0fc8fe6e-2f86-4343-915f-ab3f8c0f4ff6"
   },
   "outputs": [
    {
     "data": {
      "image/png": "[encoded data removed]",
      "text/plain": [
       "<Figure size 432x288 with 1 Axes>"
      ]
     },
     "metadata": {
      "needs_background": "light"
     },
     "output_type": "display_data"
    }
   ],
   "source": [
    "# Select Gaussian Component using Maximum Likelihood for 100 data points\n",
    "\n",
    "plt.plot(range(len(max_cluster_log_likelihood_100)),max_cluster_log_likelihood_100, label='Sample Size = 100')\n",
    "plt.xlabel('Iteration')\n",
    "plt.yticks(np.arange(0, 7, 1.0))\n",
    "plt.ylabel('Number of Components')\n",
    "plt.title('Gaussian Component Selection using Maximum Log Likelihood')\n",
    "plt.legend();"
   ]
  },
  {
   "cell_type": "code",
   "execution_count": 32,
   "metadata": {
    "colab": {
     "base_uri": "https://localhost:8080/",
     "height": 295
    },
    "executionInfo": {
     "elapsed": 152,
     "status": "ok",
     "timestamp": 1670208099990,
     "user": {
      "displayName": "Parth Shah",
      "userId": "06642947480254355812"
     },
     "user_tz": 300
    },
    "id": "2loEJ8w_HXEZ",
    "outputId": "fd2a9aaa-e217-4225-e3b7-be04d5d60447"
   },
   "outputs": [
    {
     "data": {
      "image/png": "[encoded data removed]",
      "text/plain": [
       "<Figure size 432x288 with 1 Axes>"
      ]
     },
     "metadata": {
      "needs_background": "light"
     },
     "output_type": "display_data"
    }
   ],
   "source": [
    "# Select Gaussian Component using Maximum Likelihood for 10000 data points\n",
    "\n",
    "plt.plot(range(len(max_cluster_log_likelihood_10000)),max_cluster_log_likelihood_10000, label='Sample Size = 10000')\n",
    "plt.xlabel('Iteration')\n",
    "plt.yticks(np.arange(0, 7, 1.0))\n",
    "plt.ylabel('Number of Components')\n",
    "plt.title('Gaussian Component Selection using Maximum Log Likelihood')\n",
    "plt.legend();"
   ]
  },
  {
   "cell_type": "code",
   "execution_count": 32,
   "metadata": {
    "executionInfo": {
     "elapsed": 6,
     "status": "ok",
     "timestamp": 1670208099991,
     "user": {
      "displayName": "Parth Shah",
      "userId": "06642947480254355812"
     },
     "user_tz": 300
    },
    "id": "75krltVwI4CJ"
   },
   "outputs": [],
   "source": []
  }
 ],
 "metadata": {
  "colab": {
   "provenance": []
  },
  "kernelspec": {
   "display_name": "Python 3 (ipykernel)",
   "language": "python",
   "name": "python3"
  },
  "language_info": {
   "codemirror_mode": {
    "name": "ipython",
    "version": 3
   },
   "file_extension": ".py",
   "mimetype": "text/x-python",
   "name": "python",
   "nbconvert_exporter": "python",
   "pygments_lexer": "ipython3",
   "version": "3.9.13"
  }
 },
 "nbformat": 4,
 "nbformat_minor": 1
}
